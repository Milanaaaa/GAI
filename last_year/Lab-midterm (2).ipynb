{
 "cells": [
  {
   "cell_type": "markdown",
   "metadata": {
    "pycharm": {
     "name": "#%% md\n"
    }
   },
   "source": [
    "## Midterm Lab Exam \n",
    "\n",
    "```\n",
    "- Generative Artificial Intelligence (Fall semester 2023)\n",
    "- Professor: Muhammad Fahim\n",
    "- Teaching Assistant: Gcinizwe Dlamini\n",
    "```\n",
    "<hr>\n",
    "\n",
    "## Tasks\n",
    "```\n",
    "1. Variational AutoEncoder \n",
    "2. Conditional GAN (bonus)\n",
    "```\n",
    "All implementation in python and using PyTorch framework for neural networks\n",
    "<hr>"
   ]
  },
  {
   "cell_type": "markdown",
   "metadata": {
    "pycharm": {
     "name": "#%% md\n"
    }
   },
   "source": [
    "## 0. Dataset\n",
    "\n",
    "For both tasks CIFAR-10 dataset will be used"
   ]
  },
  {
   "cell_type": "code",
   "execution_count": null,
   "metadata": {
    "pycharm": {
     "name": "#%%\n"
    }
   },
   "outputs": [],
   "source": [
    "import torch\n",
    "from torch import nn\n",
    "import torchvision\n",
    "import torchvision.transforms as transforms\n",
    "\n",
    "device = 'cuda' if torch.cuda.is_available() else 'cpu'\n",
    "print(f'available device : {device}')\n",
    "\n",
    "transform = transforms.Compose(\n",
    "    [transforms.ToTensor(),\n",
    "     transforms.Normalize((0.5, 0.5, 0.5), (0.5, 0.5, 0.5))])\n",
    "\n",
    "batch_size = 32\n",
    "\n",
    "trainset = torchvision.datasets.CIFAR10(root='./data', train=False,\n",
    "                                        download=True, transform=transform)\n",
    "trainloader = torch.utils.data.DataLoader(trainset, batch_size=batch_size,\n",
    "                                          shuffle=True, num_workers=2)\n",
    "\n",
    "classes = ('plane', 'car', 'bird', 'cat',\n",
    "           'deer', 'dog', 'frog', 'horse', 'ship', 'truck')"
   ]
  },
  {
   "cell_type": "markdown",
   "metadata": {
    "pycharm": {
     "name": "#%% md\n"
    }
   },
   "source": [
    "## 2. Task 1 (variational autoencoder)\n",
    "\n",
    "* Implement and train a variational autoencoder for cifar 10 data using the achitecture below for generator and discriminator as baseline (you can only improve the achitecture by extending the achitecture on top of baseline)\n",
    "* Implement a function that will generate images using the implemented vae \n",
    "\n",
    "\n",
    "### 2.1  VAE definition (20 points)\n",
    "\n",
    "**Encoder Achitecture (baseline)**\n",
    "- 3 convolutional layers whereby each layer is followed by batch normalization and relu activation function\n",
    "  - Layer 1 : applies 32 filters\n",
    "  - Layer 2 : applies 64 filters\n",
    "  - Layer 3 : applies 128 filters\n",
    "\n",
    "**Latent space**\n",
    "- without activation\n",
    "\n",
    "**Decoder Achitecture (baseline)**\n",
    "- 3 deconvolutional layers whereby each layer is followed by batch normalization and relu activation function\n",
    "- Mirror of the encoder network\n",
    "\n",
    "**NB**: For both convolution and deconvolution `kernel_size=4, stride=2, padding=1`"
   ]
  },
  {
   "cell_type": "code",
   "execution_count": null,
   "metadata": {
    "pycharm": {
     "name": "#%%\n"
    }
   },
   "outputs": [],
   "source": [
    "## Template code\n",
    "## Write your code here\n",
    "\n",
    "class VAE(nn.Module):\n",
    "    def __init__(self, channel_num=3, kernel_num=128, z_size=128, image_size=32):\n",
    "        super(VAE, self).__init__()\n",
    "        ## Your code here\n",
    "\n",
    "    \n",
    "    def reparametrize(self, mean, logvar):\n",
    "        ## Your code here\n",
    "\n",
    "        pass\n",
    "\n",
    "    \n",
    "    def forward(self, x):\n",
    "        ## Your code here\n",
    "\n",
    "        mean, logvar = None, None # TODO\n",
    "        x_reconstructed = None # TODO\n",
    "        return (mean, logvar), x_reconstructed\n",
    "\n",
    "\n",
    "vae_model = VAE()\n",
    "vae_model"
   ]
  },
  {
   "cell_type": "markdown",
   "metadata": {
    "pycharm": {
     "name": "#%% md\n"
    }
   },
   "source": [
    "### 2.2 Training parameters definition (10 points)\n",
    "\n",
    "- Define optimizer : Adam optimizer (default `weight_decay=1e-5, learning_rate=3e-04`)\n",
    "- Define the criterion : kl-divergence loss and reconstruction loss"
   ]
  },
  {
   "cell_type": "code",
   "execution_count": null,
   "metadata": {
    "pycharm": {
     "name": "#%%\n"
    }
   },
   "outputs": [],
   "source": [
    "learning_rate = 3e-04 \n",
    "optimizer = None ## Your code here\n",
    "\n",
    "\n",
    "def reconstruction_loss(x_reconstructed, x):\n",
    "    ## Your code here\n",
    "    pass\n",
    "\n",
    "def kl_divergence_loss(mean, logvar):\n",
    "    ## Your code here\n",
    "    pass"
   ]
  },
  {
   "cell_type": "markdown",
   "metadata": {
    "pycharm": {
     "name": "#%% md\n"
    }
   },
   "source": [
    "### 2.3 VAE Training and Evaluation (15 points)\n",
    "\n",
    "- Define the training procedure and train the vae model \n",
    "- Add model evaluation every after (n batches) or (n epochs)"
   ]
  },
  {
   "cell_type": "code",
   "execution_count": null,
   "metadata": {
    "pycharm": {
     "name": "#%%\n"
    }
   },
   "outputs": [],
   "source": [
    "epochs = 10\n",
    "for epoch in range(epochs):\n",
    "    ## Your code here\n",
    "    pass"
   ]
  },
  {
   "cell_type": "markdown",
   "metadata": {
    "pycharm": {
     "name": "#%% md\n"
    }
   },
   "source": [
    "### 2.4 Images generation (5 points)\n",
    "\n",
    "- Implement a function that will take the number of images to be generated, generate images using the previously implemented vae and save them to folder"
   ]
  },
  {
   "cell_type": "code",
   "execution_count": null,
   "metadata": {
    "pycharm": {
     "name": "#%%\n"
    }
   },
   "outputs": [],
   "source": [
    "def generate_images(num_images=5, model=vae_model):\n",
    "    ## Your code here\n",
    "    pass"
   ]
  },
  {
   "cell_type": "markdown",
   "metadata": {
    "pycharm": {
     "name": "#%% md\n"
    }
   },
   "source": [
    "## Bonus task (50 points)\n",
    "\n",
    "- Grading for the bonus task is binary (its eighter you get it all correct or zero) -- One mistake equals zero \n",
    "- The bonus points scope is the midterm lab exam only (bonus points cannot be tranfered to other parts of the course)\n",
    "- Implement a conditional GAN for CIFAR 10 data\n",
    "- Train and evaluate cGAN \n",
    "- Log the training and validation perfomace metrics to `TensorBoard`\n",
    "- Implement a function that will take a condition, generate images using the previously implemented conditional GAN and visualize the result"
   ]
  },
  {
   "cell_type": "code",
   "execution_count": 2,
   "metadata": {
    "pycharm": {
     "name": "#%%\n"
    }
   },
   "outputs": [],
   "source": [
    "## Your code here"
   ]
  },
  {
   "cell_type": "code",
   "execution_count": null,
   "metadata": {
    "pycharm": {
     "name": "#%%\n"
    }
   },
   "outputs": [],
   "source": []
  }
 ],
 "metadata": {
  "kernelspec": {
   "display_name": "ms-ml-2023-_Jg3l2dS-py3.9",
   "language": "python",
   "name": "python3"
  },
  "language_info": {
   "codemirror_mode": {
    "name": "ipython",
    "version": 3
   },
   "file_extension": ".py",
   "mimetype": "text/x-python",
   "name": "python",
   "nbconvert_exporter": "python",
   "pygments_lexer": "ipython3",
   "version": "3.9.17"
  }
 },
 "nbformat": 4,
 "nbformat_minor": 2
}