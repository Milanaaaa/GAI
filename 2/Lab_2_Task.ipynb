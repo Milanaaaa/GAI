{
 "cells": [
  {
   "cell_type": "markdown",
   "id": "bc14ad96-ac5c-4689-ae0c-e185ab6549d2",
   "metadata": {
    "id": "bc14ad96-ac5c-4689-ae0c-e185ab6549d2",
    "pycharm": {
     "name": "#%% md\n"
    }
   },
   "source": [
    "## Week 3 : Autoencoders\n",
    "```\n",
    "- Generative Artificial Intelligence (Spring semester 2025)\n",
    "- Professor: Muhammad Fahim\n",
    "- Teaching Assistant: Ahmad Taha\n",
    "```\n",
    "<hr>\n",
    "\n",
    "## Content\n",
    "In this lab we will cover the following topics:\n",
    "```\n",
    "1. Types of autoencoders\n",
    "2. Applications of autoencoders\n",
    "3. Autoencoders training procedure\n",
    "4. Reparametrisation trick\n",
    "\n",
    "```"
   ]
  },
  {
   "cell_type": "markdown",
   "id": "1978f329e79d20bd",
   "metadata": {
    "collapsed": false,
    "id": "1978f329e79d20bd",
    "pycharm": {
     "name": "#%% md\n"
    }
   },
   "source": [
    "## Undercomplete & Overcomplete\n",
    "\n",
    "PCA vs. Undercomplete autoencoders\n",
    "* Autoencoders are much flexible than PCA.\n",
    "* Neural Network activation functions introduce “non-linearities” in encoding, but PCA only linear transformation."
   ]
  },
  {
   "cell_type": "code",
   "execution_count": 1,
   "id": "1cba6ef6-dda4-4227-a330-a8730f89c35b",
   "metadata": {
    "ExecuteTime": {
     "end_time": "2023-09-01T18:56:03.551804902Z",
     "start_time": "2023-09-01T18:56:01.427185604Z"
    },
    "id": "1cba6ef6-dda4-4227-a330-a8730f89c35b",
    "pycharm": {
     "name": "#%%\n"
    }
   },
   "outputs": [],
   "source": [
    "import torch\n",
    "import torch.nn as nn\n",
    "import torch.optim as optim\n",
    "from torchsummary import summary\n",
    "from torch.utils.data import TensorDataset, DataLoader\n",
    "\n",
    "import torchvision\n",
    "import torchvision.transforms as transforms\n",
    "\n",
    "\n",
    "device = torch.device(\"cuda:0\" if torch.cuda.is_available() else \"cpu\")"
   ]
  },
  {
   "cell_type": "markdown",
   "id": "264eba0df344e957",
   "metadata": {
    "collapsed": false,
    "id": "264eba0df344e957",
    "pycharm": {
     "name": "#%% md\n"
    }
   },
   "source": [
    "## Defining Undercomplete Autoencoder"
   ]
  },
  {
   "cell_type": "code",
   "execution_count": 3,
   "id": "23b8e9663964f5b7",
   "metadata": {
    "ExecuteTime": {
     "end_time": "2023-09-01T18:57:36.849966667Z",
     "start_time": "2023-09-01T18:57:36.787728400Z"
    },
    "id": "23b8e9663964f5b7",
    "pycharm": {
     "name": "#%%\n"
    }
   },
   "outputs": [],
   "source": [
    "## Undercomplete\n",
    "class autoencoder(nn.Module):\n",
    "    def __init__(self, input_size, latent_dim):\n",
    "      super(autoencoder, self).__init__()\n",
    "      # Step 1 : Define the encoder\n",
    "      self.encoder = nn.Sequential(\n",
    "            nn.Linear(input_size, 32),\n",
    "            nn.ReLU(),\n",
    "            nn.Linear(32, latent_dim)\n",
    "        )\n",
    "      # Step 2 : Define the decoder\n",
    "      self.decoder = nn.Sequential(\n",
    "            nn.Linear(latent_dim, 128),\n",
    "            nn.ReLU(),\n",
    "            nn.Linear(128, input_size),\n",
    "            nn.Sigmoid()  # Normalizes the output to [0, 1]\n",
    "        )\n",
    "      # Step 3 : Initialize the weights (optional)\n",
    "      self.apply(self.__init_weights)\n",
    "\n",
    "    def forward(self, x):\n",
    "      # Step 1: Pass the input through encoder to get latent representation\n",
    "      latent = self.encoder(x)\n",
    "      # Step 2: Take latent representation and pass through decoder\n",
    "      reconstructed = self.decoder(latent)\n",
    "      return reconstructed\n",
    "      # x = x + noise\n",
    "      # x = None\n",
    "      # return x\n",
    "\n",
    "    def encode(self,input):\n",
    "      #Step 1: Pass the input through the encoder to get latent representation\n",
    "      return self.encoder(input)\n",
    "\n",
    "    def __init_weights(self,m):\n",
    "      #Init the weights (optional)\n",
    "      if type(m) == nn.Linear:\n",
    "          torch.nn.init.xavier_uniform_(m.weight)\n",
    "          m.bias.data.fill_(0.01)"
   ]
  },
  {
   "cell_type": "markdown",
   "id": "55c4f7449d3d123d",
   "metadata": {
    "collapsed": false,
    "id": "55c4f7449d3d123d",
    "pycharm": {
     "name": "#%% md\n"
    }
   },
   "source": [
    "## Define training parameters\n",
    "\n",
    "```\n",
    "Step 1: Set training parameters (batch size, learning rate, optimizer, number of epochs, loss function)\n",
    "Step 2: Create dataset (Randomly generated)\n",
    "Step 3: Create data loader\n",
    "Step 4: Define the training loop\n",
    "```"
   ]
  },
  {
   "cell_type": "code",
   "execution_count": 4,
   "id": "2ca588c9087743f",
   "metadata": {
    "ExecuteTime": {
     "end_time": "2023-09-01T18:57:46.888448683Z",
     "start_time": "2023-09-01T18:57:46.846125334Z"
    },
    "id": "2ca588c9087743f",
    "colab": {
     "base_uri": "https://localhost:8080/"
    },
    "outputId": "374b40d3-5d8e-4eca-a844-01f4b58a704e",
    "pycharm": {
     "name": "#%%\n"
    }
   },
   "outputs": [
    {
     "output_type": "stream",
     "name": "stdout",
     "text": [
      "autoencoder(\n",
      "  (encoder): Sequential(\n",
      "    (0): Linear(in_features=64, out_features=128, bias=True)\n",
      "    (1): ReLU()\n",
      "    (2): Linear(in_features=128, out_features=5, bias=True)\n",
      "  )\n",
      "  (decoder): Sequential(\n",
      "    (0): Linear(in_features=5, out_features=128, bias=True)\n",
      "    (1): ReLU()\n",
      "    (2): Linear(in_features=128, out_features=64, bias=True)\n",
      "    (3): Sigmoid()\n",
      "  )\n",
      ")\n"
     ]
    }
   ],
   "source": [
    "batchSize = 100\n",
    "learning_rate = 0.01\n",
    "num_epochs = 20\n",
    "sample = torch.randn((batchSize,1,64))\n",
    "AE = autoencoder(64,5).to(device)\n",
    "print(AE)\n",
    "\n",
    "criterion = nn.MSELoss()\n",
    "optimizer = torch.optim.Adam(AE.parameters(),lr=learning_rate)\n",
    "\n",
    "#Create a random dataset\n",
    "data_loader = DataLoader(TensorDataset(torch.randn((1000,1,64))),batch_size=32,shuffle=True)"
   ]
  },
  {
   "cell_type": "markdown",
   "id": "c77e11fb332375a6",
   "metadata": {
    "collapsed": false,
    "id": "c77e11fb332375a6",
    "pycharm": {
     "name": "#%% md\n"
    }
   },
   "source": [
    "## Training Loop"
   ]
  },
  {
   "cell_type": "code",
   "execution_count": 5,
   "id": "adcc13244cbcab28",
   "metadata": {
    "ExecuteTime": {
     "end_time": "2023-09-01T18:58:00.928975399Z",
     "start_time": "2023-09-01T18:57:57.995708923Z"
    },
    "id": "adcc13244cbcab28",
    "colab": {
     "base_uri": "https://localhost:8080/"
    },
    "outputId": "1fd7661a-9fc4-423c-ee6f-f93be361cbef",
    "pycharm": {
     "name": "#%%\n"
    }
   },
   "outputs": [
    {
     "output_type": "stream",
     "name": "stdout",
     "text": [
      "epoch [1/20], loss:1.0053\n",
      "epoch [2/20], loss:1.0112\n",
      "epoch [3/20], loss:0.9800\n",
      "epoch [4/20], loss:0.9516\n",
      "epoch [5/20], loss:1.0006\n",
      "epoch [6/20], loss:1.0519\n",
      "epoch [7/20], loss:0.9141\n",
      "epoch [8/20], loss:1.0003\n",
      "epoch [9/20], loss:0.9990\n",
      "epoch [10/20], loss:0.9892\n",
      "epoch [11/20], loss:1.0715\n",
      "epoch [12/20], loss:0.9802\n",
      "epoch [13/20], loss:0.9971\n",
      "epoch [14/20], loss:0.9738\n",
      "epoch [15/20], loss:0.9497\n",
      "epoch [16/20], loss:0.9772\n",
      "epoch [17/20], loss:0.9003\n",
      "epoch [18/20], loss:1.0191\n",
      "epoch [19/20], loss:0.8944\n",
      "epoch [20/20], loss:1.0608\n"
     ]
    }
   ],
   "source": [
    "for epoch in range(num_epochs):\n",
    "    epoch_loss = 0.0\n",
    "    for X in data_loader:\n",
    "        X = X[0].to(device)\n",
    "\n",
    "        optimizer.zero_grad()\n",
    "        # forward\n",
    "        output = AE(X)\n",
    "        loss = criterion(output, X)\n",
    "\n",
    "        # backward\n",
    "        loss.backward()\n",
    "        optimizer.step()\n",
    "\n",
    "        epoch_loss += loss.item()\n",
    "\n",
    "    # log\n",
    "    print('epoch [{}/{}], loss:{:.4f}'.format(epoch + 1, num_epochs, loss.item()))"
   ]
  },
  {
   "cell_type": "markdown",
   "id": "99a2937ecb5d7be2",
   "metadata": {
    "collapsed": false,
    "id": "99a2937ecb5d7be2",
    "pycharm": {
     "name": "#%% md\n"
    }
   },
   "source": [
    "## Regularized Autoencoder\n",
    "\n",
    "Regularized autoencoders use a loss function that encourages the model to have other properties besides the ability to copy its input to its output.\n",
    "\n",
    "* **Sparse Autoencoders** : It impose a constraint in its loss by adding a regularization term in the loss function.\n",
    "$$L(x,\\hat{x}) + λ \\sum_{i}|h_i|$$\n",
    "\n",
    "  **Regularization Form** : It can be L1 regularization or Any other kinds of penalties are possible\n",
    "\n",
    "\n",
    "* **Denoising Autoencoder** : a special autoencoder that is robust to noise. By adding stochastic noise, we force Autoencoder to learn more robust features"
   ]
  },
  {
   "cell_type": "markdown",
   "id": "404c42942b451ae9",
   "metadata": {
    "collapsed": false,
    "id": "404c42942b451ae9",
    "pycharm": {
     "name": "#%% md\n"
    }
   },
   "source": [
    "## Sparse Autoencoder\n",
    "\n",
    "**Task**: implement a Sparse Autoencoder for 1D data of your choice"
   ]
  },
  {
   "cell_type": "code",
   "execution_count": 6,
   "id": "2706b9ccfa63f09",
   "metadata": {
    "ExecuteTime": {
     "end_time": "2023-09-01T19:10:13.542620925Z",
     "start_time": "2023-09-01T19:10:13.517375230Z"
    },
    "id": "2706b9ccfa63f09",
    "pycharm": {
     "name": "#%%\n"
    }
   },
   "outputs": [],
   "source": [
    "# TODO: implement a Sparse Autoencoder for 1D data of your choice\n",
    "\n",
    "class SparseAutoencoder(nn.Module):\n",
    "  def __init__(self, input_size, latent_dim):\n",
    "    super(SparseAutoencoder, self).__init__()\n",
    "\n",
    "    # Encoder: Compress input to latent space\n",
    "    self.encoder = nn.Sequential(\n",
    "        nn.Linear(input_size, 128),\n",
    "        nn.ReLU(),\n",
    "        nn.Linear(128, latent_dim),\n",
    "        nn.ReLU()\n",
    "    )\n",
    "\n",
    "    # Decoder: Reconstruct input from latent space\n",
    "    self.decoder = nn.Sequential(\n",
    "        nn.Linear(latent_dim, 128),\n",
    "        nn.ReLU(),\n",
    "        nn.Linear(128, input_size),\n",
    "        nn.Sigmoid()  # Normalize to [0, 1]\n",
    "    )\n",
    "\n",
    "\n",
    "  def foward(self, x):\n",
    "    latent = self.encoder(x)  # Encode input\n",
    "    reconstructed = self.decoder(latent)  # Decode latent representation\n",
    "    return reconstructed, latent  # Return both reconstructed output and latent space\n"
   ]
  },
  {
   "cell_type": "markdown",
   "id": "d73cb157c3af0036",
   "metadata": {
    "collapsed": false,
    "id": "d73cb157c3af0036",
    "pycharm": {
     "name": "#%% md\n"
    }
   },
   "source": [
    "## Denoising Autoencoder\n",
    "\n",
    "**Task** : implement a Denoising Autoencoder for CIFAR 10 dataset. Choose one class from the 10, Define and train the model"
   ]
  },
  {
   "cell_type": "code",
   "execution_count": 7,
   "id": "33993deb453b952b",
   "metadata": {
    "ExecuteTime": {
     "end_time": "2023-09-01T19:10:27.459285703Z",
     "start_time": "2023-09-01T19:10:27.402642320Z"
    },
    "id": "33993deb453b952b",
    "pycharm": {
     "name": "#%%\n"
    }
   },
   "outputs": [],
   "source": [
    "# TODO : implement a Denoising Autoencoder for CIFAR 10 dataset. Choose one class from the 10\n",
    "\n",
    "class DenoisingAutoencoder(nn.Module):\n",
    "  def __init__(self, input_size, latent_dim):\n",
    "    super(DenoisingAutoencoder, self).__init__()\n",
    "\n",
    "    # Encoder: Compress input to latent space\n",
    "    self.encoder = nn.Sequential(\n",
    "        nn.Conv2d(3, 64, kernel_size=3, stride=2, padding=1),\n",
    "        nn.ReLU(),\n",
    "        nn.Conv2d(64, 128, kernel_size=3, stride=2, padding=1),\n",
    "        nn.ReLU(),\n",
    "        nn.Conv2d(128, latent_dim, kernel_size=3, stride=2, padding=1),\n",
    "        nn.ReLU()\n",
    "    )\n",
    "\n",
    "    # Decoder: Reconstruct input from latent space\n",
    "    self.decoder = nn.Sequential(\n",
    "        nn.ConvTranspose2d(latent_dim, 128, kernel_size=3, stride=2, padding=1, output_padding=1),\n",
    "        nn.ReLU(),\n",
    "        nn.ConvTranspose2d(128, 64, kernel_size=3, stride=2, padding=1, output_padding=1),\n",
    "        nn.ReLU(),\n",
    "        nn.ConvTranspose2d(64, 3, kernel_size=3, stride=2, padding=1, output_padding=1),\n",
    "        nn.Sigmoid()  # Normalize to [0, 1]\n",
    "    )\n",
    "\n",
    "  def foward(self, x):\n",
    "    latent = self.encoder(x)  # Encode input\n",
    "    reconstructed = self.decoder(latent)  # Decode latent representation\n",
    "    return reconstructed"
   ]
  },
  {
   "cell_type": "markdown",
   "id": "73322f7a2540127",
   "metadata": {
    "collapsed": false,
    "id": "73322f7a2540127",
    "pycharm": {
     "name": "#%% md\n"
    }
   },
   "source": [
    "### Get Image data (CIFAR 10 dataset)"
   ]
  },
  {
   "cell_type": "code",
   "execution_count": 8,
   "id": "8fa487e1004b7cd8",
   "metadata": {
    "ExecuteTime": {
     "start_time": "2023-09-01T19:10:38.985245541Z"
    },
    "id": "8fa487e1004b7cd8",
    "colab": {
     "base_uri": "https://localhost:8080/"
    },
    "outputId": "ab2f76b0-5732-44fb-d7e3-69d7e82212d4",
    "pycharm": {
     "name": "#%%\n"
    }
   },
   "outputs": [
    {
     "output_type": "stream",
     "name": "stdout",
     "text": [
      "Downloading https://www.cs.toronto.edu/~kriz/cifar-10-python.tar.gz to ./data/cifar-10-python.tar.gz\n"
     ]
    },
    {
     "output_type": "stream",
     "name": "stderr",
     "text": [
      "100%|██████████| 170M/170M [00:02<00:00, 81.4MB/s]\n"
     ]
    },
    {
     "output_type": "stream",
     "name": "stdout",
     "text": [
      "Extracting ./data/cifar-10-python.tar.gz to ./data\n",
      "Files already downloaded and verified\n"
     ]
    }
   ],
   "source": [
    "transform = transforms.Compose(\n",
    "    [transforms.ToTensor(),\n",
    "     transforms.Normalize((0.5, 0.5, 0.5), (0.5, 0.5, 0.5))])\n",
    "\n",
    "trainset = torchvision.datasets.CIFAR10(root='./data', train=True,\n",
    "                                        download=True, transform=transform)\n",
    "\n",
    "testset = torchvision.datasets.CIFAR10(root='./data', train=False,\n",
    "                                       download=True, transform=transform)"
   ]
  },
  {
   "cell_type": "markdown",
   "id": "3b16128728f80b41",
   "metadata": {
    "collapsed": false,
    "id": "3b16128728f80b41",
    "pycharm": {
     "name": "#%% md\n"
    }
   },
   "source": [
    "## Variational Autoencoders\n",
    "\n",
    "![caption](https://learnopencv.com/wp-content/uploads/2020/11/vae-diagram-1-1024x563.jpg)"
   ]
  },
  {
   "cell_type": "code",
   "execution_count": 9,
   "id": "3df745061b5b8db7",
   "metadata": {
    "ExecuteTime": {
     "start_time": "2023-09-01T19:13:21.280023317Z"
    },
    "id": "3df745061b5b8db7",
    "pycharm": {
     "name": "#%%\n"
    }
   },
   "outputs": [],
   "source": [
    "import os\n",
    "import torch\n",
    "import torch.nn as nn\n",
    "import torch.nn.functional as F\n",
    "from torchvision import transforms\n",
    "from torchvision.utils import save_image"
   ]
  },
  {
   "cell_type": "markdown",
   "id": "41f66457b552a690",
   "metadata": {
    "collapsed": false,
    "id": "41f66457b552a690",
    "pycharm": {
     "name": "#%% md\n"
    }
   },
   "source": [
    "## Get data (MNIST)"
   ]
  },
  {
   "cell_type": "code",
   "execution_count": 10,
   "id": "6c22a7a33e32d298",
   "metadata": {
    "ExecuteTime": {
     "end_time": "2023-09-01T19:18:48.340804174Z",
     "start_time": "2023-09-01T19:18:44.048912215Z"
    },
    "id": "6c22a7a33e32d298",
    "colab": {
     "base_uri": "https://localhost:8080/"
    },
    "outputId": "f360e8c6-fee5-4c6f-d214-476f1199680f",
    "pycharm": {
     "name": "#%%\n"
    }
   },
   "outputs": [
    {
     "output_type": "stream",
     "name": "stdout",
     "text": [
      "Downloading http://yann.lecun.com/exdb/mnist/train-images-idx3-ubyte.gz\n",
      "Failed to download (trying next):\n",
      "<urlopen error [Errno 111] Connection refused>\n",
      "\n",
      "Downloading https://ossci-datasets.s3.amazonaws.com/mnist/train-images-idx3-ubyte.gz\n",
      "Downloading https://ossci-datasets.s3.amazonaws.com/mnist/train-images-idx3-ubyte.gz to ../../data/MNIST/raw/train-images-idx3-ubyte.gz\n"
     ]
    },
    {
     "output_type": "stream",
     "name": "stderr",
     "text": [
      "100%|██████████| 9.91M/9.91M [00:00<00:00, 42.2MB/s]\n"
     ]
    },
    {
     "output_type": "stream",
     "name": "stdout",
     "text": [
      "Extracting ../../data/MNIST/raw/train-images-idx3-ubyte.gz to ../../data/MNIST/raw\n",
      "\n",
      "Downloading http://yann.lecun.com/exdb/mnist/train-labels-idx1-ubyte.gz\n",
      "Failed to download (trying next):\n",
      "<urlopen error [Errno 111] Connection refused>\n",
      "\n",
      "Downloading https://ossci-datasets.s3.amazonaws.com/mnist/train-labels-idx1-ubyte.gz\n",
      "Downloading https://ossci-datasets.s3.amazonaws.com/mnist/train-labels-idx1-ubyte.gz to ../../data/MNIST/raw/train-labels-idx1-ubyte.gz\n"
     ]
    },
    {
     "output_type": "stream",
     "name": "stderr",
     "text": [
      "100%|██████████| 28.9k/28.9k [00:00<00:00, 1.26MB/s]\n"
     ]
    },
    {
     "output_type": "stream",
     "name": "stdout",
     "text": [
      "Extracting ../../data/MNIST/raw/train-labels-idx1-ubyte.gz to ../../data/MNIST/raw\n",
      "\n",
      "Downloading http://yann.lecun.com/exdb/mnist/t10k-images-idx3-ubyte.gz\n",
      "Failed to download (trying next):\n",
      "<urlopen error [Errno 111] Connection refused>\n",
      "\n",
      "Downloading https://ossci-datasets.s3.amazonaws.com/mnist/t10k-images-idx3-ubyte.gz\n",
      "Downloading https://ossci-datasets.s3.amazonaws.com/mnist/t10k-images-idx3-ubyte.gz to ../../data/MNIST/raw/t10k-images-idx3-ubyte.gz\n"
     ]
    },
    {
     "output_type": "stream",
     "name": "stderr",
     "text": [
      "100%|██████████| 1.65M/1.65M [00:00<00:00, 11.0MB/s]\n"
     ]
    },
    {
     "output_type": "stream",
     "name": "stdout",
     "text": [
      "Extracting ../../data/MNIST/raw/t10k-images-idx3-ubyte.gz to ../../data/MNIST/raw\n",
      "\n",
      "Downloading http://yann.lecun.com/exdb/mnist/t10k-labels-idx1-ubyte.gz\n",
      "Failed to download (trying next):\n",
      "<urlopen error [Errno 111] Connection refused>\n",
      "\n",
      "Downloading https://ossci-datasets.s3.amazonaws.com/mnist/t10k-labels-idx1-ubyte.gz\n",
      "Downloading https://ossci-datasets.s3.amazonaws.com/mnist/t10k-labels-idx1-ubyte.gz to ../../data/MNIST/raw/t10k-labels-idx1-ubyte.gz\n"
     ]
    },
    {
     "output_type": "stream",
     "name": "stderr",
     "text": [
      "100%|██████████| 4.54k/4.54k [00:00<00:00, 8.54MB/s]"
     ]
    },
    {
     "output_type": "stream",
     "name": "stdout",
     "text": [
      "Extracting ../../data/MNIST/raw/t10k-labels-idx1-ubyte.gz to ../../data/MNIST/raw\n",
      "\n"
     ]
    },
    {
     "output_type": "stream",
     "name": "stderr",
     "text": [
      "\n"
     ]
    }
   ],
   "source": [
    "# Hyper-parameters\n",
    "image_size = 784\n",
    "h_dim = 400\n",
    "z_dim = 20\n",
    "num_epochs = 15\n",
    "batch_size = 128\n",
    "learning_rate = 1e-3\n",
    "\n",
    "# MNIST dataset\n",
    "dataset = torchvision.datasets.MNIST(root='../../data',\n",
    "                                     train=True,\n",
    "                                     transform=transforms.ToTensor(),\n",
    "                                     download=True)\n",
    "\n",
    "# Data loader\n",
    "data_loader = torch.utils.data.DataLoader(dataset=dataset,\n",
    "                                          batch_size=batch_size,\n",
    "                                          shuffle=True)"
   ]
  },
  {
   "cell_type": "markdown",
   "id": "129496ce26f02f9a",
   "metadata": {
    "collapsed": false,
    "id": "129496ce26f02f9a",
    "pycharm": {
     "name": "#%% md\n"
    }
   },
   "source": [
    "## Define VAE"
   ]
  },
  {
   "cell_type": "code",
   "execution_count": 11,
   "id": "93556385412cf9ef",
   "metadata": {
    "ExecuteTime": {
     "end_time": "2023-09-01T19:19:01.678951844Z",
     "start_time": "2023-09-01T19:19:01.635196458Z"
    },
    "id": "93556385412cf9ef",
    "pycharm": {
     "name": "#%%\n"
    }
   },
   "outputs": [],
   "source": [
    "# VAE model\n",
    "class VAE(nn.Module):\n",
    "  def __init__(self, image_size=784, h_dim=400, z_dim=20):\n",
    "    super(VAE, self).__init__()\n",
    "    # Encoder part\n",
    "    self.fc1 = nn.Linear(image_size, h_dim)\n",
    "    self.fc2 = nn.Linear(h_dim, z_dim)\n",
    "    self.fc3 = nn.Linear(h_dim, z_dim)\n",
    "    # Decoder part\n",
    "    self.fc4 = nn.Linear(z_dim, h_dim)\n",
    "    self.fc5 = nn.Linear(h_dim, image_size)\n",
    "\n",
    "  def encode(self, x):\n",
    "    h = F.relu(self.fc1(x))\n",
    "    return self.fc2(h), self.fc3(h)\n",
    "\n",
    "  def reparameterize(self, mu, log_var):\n",
    "    std = torch.exp(log_var/2)\n",
    "    eps = torch.randn_like(std)\n",
    "    return mu + eps * std\n",
    "\n",
    "  def decode(self, z):\n",
    "    h = F.relu(self.fc4(z))\n",
    "    return F.sigmoid(self.fc5(h))\n",
    "\n",
    "  def forward(self, x):\n",
    "    mu, log_var = self.encode(x)\n",
    "    z = self.reparameterize(mu, log_var)\n",
    "    x_reconst = self.decode(z)\n",
    "    return x_reconst, mu, log_var"
   ]
  },
  {
   "cell_type": "markdown",
   "id": "1154fffb5f071a40",
   "metadata": {
    "collapsed": false,
    "id": "1154fffb5f071a40",
    "pycharm": {
     "name": "#%% md\n"
    }
   },
   "source": [
    "### Train Autoencoder"
   ]
  },
  {
   "cell_type": "code",
   "execution_count": 12,
   "id": "d07cb5384934f2f",
   "metadata": {
    "ExecuteTime": {
     "end_time": "2023-09-01T19:19:10.689426524Z",
     "start_time": "2023-09-01T19:19:10.666359725Z"
    },
    "id": "d07cb5384934f2f",
    "pycharm": {
     "name": "#%%\n"
    }
   },
   "outputs": [],
   "source": [
    "model = VAE(image_size, h_dim, z_dim).to(device)\n",
    "optimizer = torch.optim.Adam(model.parameters(), lr=learning_rate)"
   ]
  },
  {
   "cell_type": "code",
   "execution_count": 13,
   "id": "478014c4c3c09f92",
   "metadata": {
    "ExecuteTime": {
     "end_time": "2023-09-01T19:20:20.051726542Z",
     "start_time": "2023-09-01T19:19:23.943111378Z"
    },
    "id": "478014c4c3c09f92",
    "colab": {
     "base_uri": "https://localhost:8080/"
    },
    "outputId": "3c4cb18a-f089-432b-bd92-14c7620cea20",
    "pycharm": {
     "name": "#%%\n"
    }
   },
   "outputs": [
    {
     "output_type": "stream",
     "name": "stdout",
     "text": [
      "Epoch[1/15], Step [10/469], Reconst Loss: 0.1220\n",
      "Epoch[1/15], Step [20/469], Reconst Loss: 0.0863\n",
      "Epoch[1/15], Step [30/469], Reconst Loss: 0.0700\n",
      "Epoch[1/15], Step [40/469], Reconst Loss: 0.0705\n",
      "Epoch[1/15], Step [50/469], Reconst Loss: 0.0682\n",
      "Epoch[1/15], Step [60/469], Reconst Loss: 0.0699\n",
      "Epoch[1/15], Step [70/469], Reconst Loss: 0.0669\n",
      "Epoch[1/15], Step [80/469], Reconst Loss: 0.0659\n",
      "Epoch[1/15], Step [90/469], Reconst Loss: 0.0714\n",
      "Epoch[1/15], Step [100/469], Reconst Loss: 0.0717\n",
      "Epoch[1/15], Step [110/469], Reconst Loss: 0.0661\n",
      "Epoch[1/15], Step [120/469], Reconst Loss: 0.0691\n",
      "Epoch[1/15], Step [130/469], Reconst Loss: 0.0698\n",
      "Epoch[1/15], Step [140/469], Reconst Loss: 0.0683\n",
      "Epoch[1/15], Step [150/469], Reconst Loss: 0.0680\n",
      "Epoch[1/15], Step [160/469], Reconst Loss: 0.0689\n",
      "Epoch[1/15], Step [170/469], Reconst Loss: 0.0687\n",
      "Epoch[1/15], Step [180/469], Reconst Loss: 0.0682\n",
      "Epoch[1/15], Step [190/469], Reconst Loss: 0.0691\n",
      "Epoch[1/15], Step [200/469], Reconst Loss: 0.0703\n",
      "Epoch[1/15], Step [210/469], Reconst Loss: 0.0685\n",
      "Epoch[1/15], Step [220/469], Reconst Loss: 0.0693\n",
      "Epoch[1/15], Step [230/469], Reconst Loss: 0.0640\n",
      "Epoch[1/15], Step [240/469], Reconst Loss: 0.0709\n",
      "Epoch[1/15], Step [250/469], Reconst Loss: 0.0672\n",
      "Epoch[1/15], Step [260/469], Reconst Loss: 0.0647\n",
      "Epoch[1/15], Step [270/469], Reconst Loss: 0.0682\n",
      "Epoch[1/15], Step [280/469], Reconst Loss: 0.0687\n",
      "Epoch[1/15], Step [290/469], Reconst Loss: 0.0693\n",
      "Epoch[1/15], Step [300/469], Reconst Loss: 0.0693\n",
      "Epoch[1/15], Step [310/469], Reconst Loss: 0.0659\n",
      "Epoch[1/15], Step [320/469], Reconst Loss: 0.0693\n",
      "Epoch[1/15], Step [330/469], Reconst Loss: 0.0699\n",
      "Epoch[1/15], Step [340/469], Reconst Loss: 0.0681\n",
      "Epoch[1/15], Step [350/469], Reconst Loss: 0.0680\n",
      "Epoch[1/15], Step [360/469], Reconst Loss: 0.0711\n",
      "Epoch[1/15], Step [370/469], Reconst Loss: 0.0671\n",
      "Epoch[1/15], Step [380/469], Reconst Loss: 0.0685\n",
      "Epoch[1/15], Step [390/469], Reconst Loss: 0.0680\n",
      "Epoch[1/15], Step [400/469], Reconst Loss: 0.0665\n",
      "Epoch[1/15], Step [410/469], Reconst Loss: 0.0687\n",
      "Epoch[1/15], Step [420/469], Reconst Loss: 0.0665\n",
      "Epoch[1/15], Step [430/469], Reconst Loss: 0.0658\n",
      "Epoch[1/15], Step [440/469], Reconst Loss: 0.0671\n",
      "Epoch[1/15], Step [450/469], Reconst Loss: 0.0679\n",
      "Epoch[1/15], Step [460/469], Reconst Loss: 0.0695\n",
      "Epoch[2/15], Step [10/469], Reconst Loss: 0.0669\n",
      "Epoch[2/15], Step [20/469], Reconst Loss: 0.0661\n",
      "Epoch[2/15], Step [30/469], Reconst Loss: 0.0661\n",
      "Epoch[2/15], Step [40/469], Reconst Loss: 0.0692\n",
      "Epoch[2/15], Step [50/469], Reconst Loss: 0.0650\n",
      "Epoch[2/15], Step [60/469], Reconst Loss: 0.0650\n",
      "Epoch[2/15], Step [70/469], Reconst Loss: 0.0702\n",
      "Epoch[2/15], Step [80/469], Reconst Loss: 0.0677\n",
      "Epoch[2/15], Step [90/469], Reconst Loss: 0.0682\n",
      "Epoch[2/15], Step [100/469], Reconst Loss: 0.0677\n",
      "Epoch[2/15], Step [110/469], Reconst Loss: 0.0678\n",
      "Epoch[2/15], Step [120/469], Reconst Loss: 0.0697\n",
      "Epoch[2/15], Step [130/469], Reconst Loss: 0.0668\n",
      "Epoch[2/15], Step [140/469], Reconst Loss: 0.0696\n",
      "Epoch[2/15], Step [150/469], Reconst Loss: 0.0675\n",
      "Epoch[2/15], Step [160/469], Reconst Loss: 0.0639\n",
      "Epoch[2/15], Step [170/469], Reconst Loss: 0.0667\n",
      "Epoch[2/15], Step [180/469], Reconst Loss: 0.0685\n",
      "Epoch[2/15], Step [190/469], Reconst Loss: 0.0639\n",
      "Epoch[2/15], Step [200/469], Reconst Loss: 0.0677\n",
      "Epoch[2/15], Step [210/469], Reconst Loss: 0.0681\n",
      "Epoch[2/15], Step [220/469], Reconst Loss: 0.0652\n",
      "Epoch[2/15], Step [230/469], Reconst Loss: 0.0684\n",
      "Epoch[2/15], Step [240/469], Reconst Loss: 0.0675\n",
      "Epoch[2/15], Step [250/469], Reconst Loss: 0.0672\n",
      "Epoch[2/15], Step [260/469], Reconst Loss: 0.0706\n",
      "Epoch[2/15], Step [270/469], Reconst Loss: 0.0714\n",
      "Epoch[2/15], Step [280/469], Reconst Loss: 0.0650\n",
      "Epoch[2/15], Step [290/469], Reconst Loss: 0.0676\n",
      "Epoch[2/15], Step [300/469], Reconst Loss: 0.0680\n",
      "Epoch[2/15], Step [310/469], Reconst Loss: 0.0675\n",
      "Epoch[2/15], Step [320/469], Reconst Loss: 0.0701\n",
      "Epoch[2/15], Step [330/469], Reconst Loss: 0.0673\n",
      "Epoch[2/15], Step [340/469], Reconst Loss: 0.0654\n",
      "Epoch[2/15], Step [350/469], Reconst Loss: 0.0682\n",
      "Epoch[2/15], Step [360/469], Reconst Loss: 0.0648\n",
      "Epoch[2/15], Step [370/469], Reconst Loss: 0.0663\n",
      "Epoch[2/15], Step [380/469], Reconst Loss: 0.0683\n",
      "Epoch[2/15], Step [390/469], Reconst Loss: 0.0679\n",
      "Epoch[2/15], Step [400/469], Reconst Loss: 0.0680\n",
      "Epoch[2/15], Step [410/469], Reconst Loss: 0.0676\n",
      "Epoch[2/15], Step [420/469], Reconst Loss: 0.0672\n",
      "Epoch[2/15], Step [430/469], Reconst Loss: 0.0704\n",
      "Epoch[2/15], Step [440/469], Reconst Loss: 0.0668\n",
      "Epoch[2/15], Step [450/469], Reconst Loss: 0.0690\n",
      "Epoch[2/15], Step [460/469], Reconst Loss: 0.0675\n",
      "Epoch[3/15], Step [10/469], Reconst Loss: 0.0638\n",
      "Epoch[3/15], Step [20/469], Reconst Loss: 0.0639\n",
      "Epoch[3/15], Step [30/469], Reconst Loss: 0.0662\n",
      "Epoch[3/15], Step [40/469], Reconst Loss: 0.0702\n",
      "Epoch[3/15], Step [50/469], Reconst Loss: 0.0678\n",
      "Epoch[3/15], Step [60/469], Reconst Loss: 0.0663\n",
      "Epoch[3/15], Step [70/469], Reconst Loss: 0.0687\n",
      "Epoch[3/15], Step [80/469], Reconst Loss: 0.0734\n",
      "Epoch[3/15], Step [90/469], Reconst Loss: 0.0670\n",
      "Epoch[3/15], Step [100/469], Reconst Loss: 0.0676\n",
      "Epoch[3/15], Step [110/469], Reconst Loss: 0.0666\n",
      "Epoch[3/15], Step [120/469], Reconst Loss: 0.0691\n",
      "Epoch[3/15], Step [130/469], Reconst Loss: 0.0688\n",
      "Epoch[3/15], Step [140/469], Reconst Loss: 0.0669\n",
      "Epoch[3/15], Step [150/469], Reconst Loss: 0.0681\n",
      "Epoch[3/15], Step [160/469], Reconst Loss: 0.0681\n",
      "Epoch[3/15], Step [170/469], Reconst Loss: 0.0635\n",
      "Epoch[3/15], Step [180/469], Reconst Loss: 0.0679\n",
      "Epoch[3/15], Step [190/469], Reconst Loss: 0.0676\n",
      "Epoch[3/15], Step [200/469], Reconst Loss: 0.0657\n",
      "Epoch[3/15], Step [210/469], Reconst Loss: 0.0691\n",
      "Epoch[3/15], Step [220/469], Reconst Loss: 0.0664\n",
      "Epoch[3/15], Step [230/469], Reconst Loss: 0.0675\n",
      "Epoch[3/15], Step [240/469], Reconst Loss: 0.0663\n",
      "Epoch[3/15], Step [250/469], Reconst Loss: 0.0698\n",
      "Epoch[3/15], Step [260/469], Reconst Loss: 0.0675\n",
      "Epoch[3/15], Step [270/469], Reconst Loss: 0.0660\n",
      "Epoch[3/15], Step [280/469], Reconst Loss: 0.0690\n",
      "Epoch[3/15], Step [290/469], Reconst Loss: 0.0654\n",
      "Epoch[3/15], Step [300/469], Reconst Loss: 0.0691\n",
      "Epoch[3/15], Step [310/469], Reconst Loss: 0.0697\n",
      "Epoch[3/15], Step [320/469], Reconst Loss: 0.0677\n",
      "Epoch[3/15], Step [330/469], Reconst Loss: 0.0655\n",
      "Epoch[3/15], Step [340/469], Reconst Loss: 0.0654\n",
      "Epoch[3/15], Step [350/469], Reconst Loss: 0.0652\n",
      "Epoch[3/15], Step [360/469], Reconst Loss: 0.0664\n",
      "Epoch[3/15], Step [370/469], Reconst Loss: 0.0666\n",
      "Epoch[3/15], Step [380/469], Reconst Loss: 0.0678\n",
      "Epoch[3/15], Step [390/469], Reconst Loss: 0.0669\n",
      "Epoch[3/15], Step [400/469], Reconst Loss: 0.0642\n",
      "Epoch[3/15], Step [410/469], Reconst Loss: 0.0660\n",
      "Epoch[3/15], Step [420/469], Reconst Loss: 0.0655\n",
      "Epoch[3/15], Step [430/469], Reconst Loss: 0.0665\n",
      "Epoch[3/15], Step [440/469], Reconst Loss: 0.0669\n",
      "Epoch[3/15], Step [450/469], Reconst Loss: 0.0686\n",
      "Epoch[3/15], Step [460/469], Reconst Loss: 0.0677\n",
      "Epoch[4/15], Step [10/469], Reconst Loss: 0.0687\n",
      "Epoch[4/15], Step [20/469], Reconst Loss: 0.0664\n",
      "Epoch[4/15], Step [30/469], Reconst Loss: 0.0685\n",
      "Epoch[4/15], Step [40/469], Reconst Loss: 0.0693\n",
      "Epoch[4/15], Step [50/469], Reconst Loss: 0.0702\n",
      "Epoch[4/15], Step [60/469], Reconst Loss: 0.0694\n",
      "Epoch[4/15], Step [70/469], Reconst Loss: 0.0656\n",
      "Epoch[4/15], Step [80/469], Reconst Loss: 0.0682\n",
      "Epoch[4/15], Step [90/469], Reconst Loss: 0.0660\n",
      "Epoch[4/15], Step [100/469], Reconst Loss: 0.0697\n",
      "Epoch[4/15], Step [110/469], Reconst Loss: 0.0672\n",
      "Epoch[4/15], Step [120/469], Reconst Loss: 0.0660\n",
      "Epoch[4/15], Step [130/469], Reconst Loss: 0.0652\n",
      "Epoch[4/15], Step [140/469], Reconst Loss: 0.0667\n",
      "Epoch[4/15], Step [150/469], Reconst Loss: 0.0645\n",
      "Epoch[4/15], Step [160/469], Reconst Loss: 0.0675\n",
      "Epoch[4/15], Step [170/469], Reconst Loss: 0.0661\n",
      "Epoch[4/15], Step [180/469], Reconst Loss: 0.0667\n",
      "Epoch[4/15], Step [190/469], Reconst Loss: 0.0707\n",
      "Epoch[4/15], Step [200/469], Reconst Loss: 0.0657\n",
      "Epoch[4/15], Step [210/469], Reconst Loss: 0.0674\n",
      "Epoch[4/15], Step [220/469], Reconst Loss: 0.0680\n",
      "Epoch[4/15], Step [230/469], Reconst Loss: 0.0633\n",
      "Epoch[4/15], Step [240/469], Reconst Loss: 0.0660\n",
      "Epoch[4/15], Step [250/469], Reconst Loss: 0.0692\n",
      "Epoch[4/15], Step [260/469], Reconst Loss: 0.0674\n",
      "Epoch[4/15], Step [270/469], Reconst Loss: 0.0689\n",
      "Epoch[4/15], Step [280/469], Reconst Loss: 0.0679\n",
      "Epoch[4/15], Step [290/469], Reconst Loss: 0.0698\n",
      "Epoch[4/15], Step [300/469], Reconst Loss: 0.0669\n",
      "Epoch[4/15], Step [310/469], Reconst Loss: 0.0678\n",
      "Epoch[4/15], Step [320/469], Reconst Loss: 0.0647\n",
      "Epoch[4/15], Step [330/469], Reconst Loss: 0.0714\n",
      "Epoch[4/15], Step [340/469], Reconst Loss: 0.0668\n",
      "Epoch[4/15], Step [350/469], Reconst Loss: 0.0706\n",
      "Epoch[4/15], Step [360/469], Reconst Loss: 0.0705\n",
      "Epoch[4/15], Step [370/469], Reconst Loss: 0.0692\n",
      "Epoch[4/15], Step [380/469], Reconst Loss: 0.0703\n",
      "Epoch[4/15], Step [390/469], Reconst Loss: 0.0656\n",
      "Epoch[4/15], Step [400/469], Reconst Loss: 0.0681\n",
      "Epoch[4/15], Step [410/469], Reconst Loss: 0.0682\n",
      "Epoch[4/15], Step [420/469], Reconst Loss: 0.0670\n",
      "Epoch[4/15], Step [430/469], Reconst Loss: 0.0692\n",
      "Epoch[4/15], Step [440/469], Reconst Loss: 0.0676\n",
      "Epoch[4/15], Step [450/469], Reconst Loss: 0.0688\n",
      "Epoch[4/15], Step [460/469], Reconst Loss: 0.0700\n",
      "Epoch[5/15], Step [10/469], Reconst Loss: 0.0673\n",
      "Epoch[5/15], Step [20/469], Reconst Loss: 0.0676\n",
      "Epoch[5/15], Step [30/469], Reconst Loss: 0.0700\n",
      "Epoch[5/15], Step [40/469], Reconst Loss: 0.0690\n",
      "Epoch[5/15], Step [50/469], Reconst Loss: 0.0681\n",
      "Epoch[5/15], Step [60/469], Reconst Loss: 0.0708\n",
      "Epoch[5/15], Step [70/469], Reconst Loss: 0.0691\n",
      "Epoch[5/15], Step [80/469], Reconst Loss: 0.0711\n",
      "Epoch[5/15], Step [90/469], Reconst Loss: 0.0694\n",
      "Epoch[5/15], Step [100/469], Reconst Loss: 0.0658\n",
      "Epoch[5/15], Step [110/469], Reconst Loss: 0.0671\n",
      "Epoch[5/15], Step [120/469], Reconst Loss: 0.0687\n",
      "Epoch[5/15], Step [130/469], Reconst Loss: 0.0672\n",
      "Epoch[5/15], Step [140/469], Reconst Loss: 0.0668\n",
      "Epoch[5/15], Step [150/469], Reconst Loss: 0.0705\n",
      "Epoch[5/15], Step [160/469], Reconst Loss: 0.0679\n",
      "Epoch[5/15], Step [170/469], Reconst Loss: 0.0665\n",
      "Epoch[5/15], Step [180/469], Reconst Loss: 0.0655\n",
      "Epoch[5/15], Step [190/469], Reconst Loss: 0.0659\n",
      "Epoch[5/15], Step [200/469], Reconst Loss: 0.0706\n",
      "Epoch[5/15], Step [210/469], Reconst Loss: 0.0677\n",
      "Epoch[5/15], Step [220/469], Reconst Loss: 0.0657\n",
      "Epoch[5/15], Step [230/469], Reconst Loss: 0.0662\n",
      "Epoch[5/15], Step [240/469], Reconst Loss: 0.0670\n",
      "Epoch[5/15], Step [250/469], Reconst Loss: 0.0695\n",
      "Epoch[5/15], Step [260/469], Reconst Loss: 0.0685\n",
      "Epoch[5/15], Step [270/469], Reconst Loss: 0.0674\n",
      "Epoch[5/15], Step [280/469], Reconst Loss: 0.0649\n",
      "Epoch[5/15], Step [290/469], Reconst Loss: 0.0674\n",
      "Epoch[5/15], Step [300/469], Reconst Loss: 0.0679\n",
      "Epoch[5/15], Step [310/469], Reconst Loss: 0.0668\n",
      "Epoch[5/15], Step [320/469], Reconst Loss: 0.0679\n",
      "Epoch[5/15], Step [330/469], Reconst Loss: 0.0704\n",
      "Epoch[5/15], Step [340/469], Reconst Loss: 0.0653\n",
      "Epoch[5/15], Step [350/469], Reconst Loss: 0.0667\n",
      "Epoch[5/15], Step [360/469], Reconst Loss: 0.0658\n",
      "Epoch[5/15], Step [370/469], Reconst Loss: 0.0672\n",
      "Epoch[5/15], Step [380/469], Reconst Loss: 0.0683\n",
      "Epoch[5/15], Step [390/469], Reconst Loss: 0.0658\n",
      "Epoch[5/15], Step [400/469], Reconst Loss: 0.0646\n",
      "Epoch[5/15], Step [410/469], Reconst Loss: 0.0682\n",
      "Epoch[5/15], Step [420/469], Reconst Loss: 0.0695\n",
      "Epoch[5/15], Step [430/469], Reconst Loss: 0.0667\n",
      "Epoch[5/15], Step [440/469], Reconst Loss: 0.0660\n",
      "Epoch[5/15], Step [450/469], Reconst Loss: 0.0670\n",
      "Epoch[5/15], Step [460/469], Reconst Loss: 0.0691\n",
      "Epoch[6/15], Step [10/469], Reconst Loss: 0.0651\n",
      "Epoch[6/15], Step [20/469], Reconst Loss: 0.0676\n",
      "Epoch[6/15], Step [30/469], Reconst Loss: 0.0656\n",
      "Epoch[6/15], Step [40/469], Reconst Loss: 0.0683\n",
      "Epoch[6/15], Step [50/469], Reconst Loss: 0.0682\n",
      "Epoch[6/15], Step [60/469], Reconst Loss: 0.0672\n",
      "Epoch[6/15], Step [70/469], Reconst Loss: 0.0692\n",
      "Epoch[6/15], Step [80/469], Reconst Loss: 0.0724\n",
      "Epoch[6/15], Step [90/469], Reconst Loss: 0.0677\n",
      "Epoch[6/15], Step [100/469], Reconst Loss: 0.0695\n",
      "Epoch[6/15], Step [110/469], Reconst Loss: 0.0695\n",
      "Epoch[6/15], Step [120/469], Reconst Loss: 0.0668\n",
      "Epoch[6/15], Step [130/469], Reconst Loss: 0.0671\n",
      "Epoch[6/15], Step [140/469], Reconst Loss: 0.0694\n",
      "Epoch[6/15], Step [150/469], Reconst Loss: 0.0665\n",
      "Epoch[6/15], Step [160/469], Reconst Loss: 0.0677\n",
      "Epoch[6/15], Step [170/469], Reconst Loss: 0.0695\n",
      "Epoch[6/15], Step [180/469], Reconst Loss: 0.0662\n",
      "Epoch[6/15], Step [190/469], Reconst Loss: 0.0678\n",
      "Epoch[6/15], Step [200/469], Reconst Loss: 0.0682\n",
      "Epoch[6/15], Step [210/469], Reconst Loss: 0.0668\n",
      "Epoch[6/15], Step [220/469], Reconst Loss: 0.0697\n",
      "Epoch[6/15], Step [230/469], Reconst Loss: 0.0649\n",
      "Epoch[6/15], Step [240/469], Reconst Loss: 0.0701\n",
      "Epoch[6/15], Step [250/469], Reconst Loss: 0.0692\n",
      "Epoch[6/15], Step [260/469], Reconst Loss: 0.0660\n",
      "Epoch[6/15], Step [270/469], Reconst Loss: 0.0695\n",
      "Epoch[6/15], Step [280/469], Reconst Loss: 0.0676\n",
      "Epoch[6/15], Step [290/469], Reconst Loss: 0.0639\n",
      "Epoch[6/15], Step [300/469], Reconst Loss: 0.0648\n",
      "Epoch[6/15], Step [310/469], Reconst Loss: 0.0673\n",
      "Epoch[6/15], Step [320/469], Reconst Loss: 0.0667\n",
      "Epoch[6/15], Step [330/469], Reconst Loss: 0.0704\n",
      "Epoch[6/15], Step [340/469], Reconst Loss: 0.0674\n",
      "Epoch[6/15], Step [350/469], Reconst Loss: 0.0676\n",
      "Epoch[6/15], Step [360/469], Reconst Loss: 0.0636\n",
      "Epoch[6/15], Step [370/469], Reconst Loss: 0.0672\n",
      "Epoch[6/15], Step [380/469], Reconst Loss: 0.0694\n",
      "Epoch[6/15], Step [390/469], Reconst Loss: 0.0685\n",
      "Epoch[6/15], Step [400/469], Reconst Loss: 0.0703\n",
      "Epoch[6/15], Step [410/469], Reconst Loss: 0.0674\n",
      "Epoch[6/15], Step [420/469], Reconst Loss: 0.0667\n",
      "Epoch[6/15], Step [430/469], Reconst Loss: 0.0681\n",
      "Epoch[6/15], Step [440/469], Reconst Loss: 0.0683\n",
      "Epoch[6/15], Step [450/469], Reconst Loss: 0.0681\n",
      "Epoch[6/15], Step [460/469], Reconst Loss: 0.0700\n",
      "Epoch[7/15], Step [10/469], Reconst Loss: 0.0681\n",
      "Epoch[7/15], Step [20/469], Reconst Loss: 0.0704\n",
      "Epoch[7/15], Step [30/469], Reconst Loss: 0.0698\n",
      "Epoch[7/15], Step [40/469], Reconst Loss: 0.0695\n",
      "Epoch[7/15], Step [50/469], Reconst Loss: 0.0694\n",
      "Epoch[7/15], Step [60/469], Reconst Loss: 0.0686\n",
      "Epoch[7/15], Step [70/469], Reconst Loss: 0.0661\n",
      "Epoch[7/15], Step [80/469], Reconst Loss: 0.0666\n",
      "Epoch[7/15], Step [90/469], Reconst Loss: 0.0702\n",
      "Epoch[7/15], Step [100/469], Reconst Loss: 0.0660\n",
      "Epoch[7/15], Step [110/469], Reconst Loss: 0.0673\n",
      "Epoch[7/15], Step [120/469], Reconst Loss: 0.0649\n",
      "Epoch[7/15], Step [130/469], Reconst Loss: 0.0670\n",
      "Epoch[7/15], Step [140/469], Reconst Loss: 0.0694\n",
      "Epoch[7/15], Step [150/469], Reconst Loss: 0.0677\n",
      "Epoch[7/15], Step [160/469], Reconst Loss: 0.0643\n",
      "Epoch[7/15], Step [170/469], Reconst Loss: 0.0690\n",
      "Epoch[7/15], Step [180/469], Reconst Loss: 0.0668\n",
      "Epoch[7/15], Step [190/469], Reconst Loss: 0.0685\n",
      "Epoch[7/15], Step [200/469], Reconst Loss: 0.0705\n",
      "Epoch[7/15], Step [210/469], Reconst Loss: 0.0706\n",
      "Epoch[7/15], Step [220/469], Reconst Loss: 0.0681\n",
      "Epoch[7/15], Step [230/469], Reconst Loss: 0.0674\n",
      "Epoch[7/15], Step [240/469], Reconst Loss: 0.0693\n",
      "Epoch[7/15], Step [250/469], Reconst Loss: 0.0657\n",
      "Epoch[7/15], Step [260/469], Reconst Loss: 0.0680\n",
      "Epoch[7/15], Step [270/469], Reconst Loss: 0.0660\n",
      "Epoch[7/15], Step [280/469], Reconst Loss: 0.0677\n",
      "Epoch[7/15], Step [290/469], Reconst Loss: 0.0669\n",
      "Epoch[7/15], Step [300/469], Reconst Loss: 0.0662\n",
      "Epoch[7/15], Step [310/469], Reconst Loss: 0.0689\n",
      "Epoch[7/15], Step [320/469], Reconst Loss: 0.0648\n",
      "Epoch[7/15], Step [330/469], Reconst Loss: 0.0692\n",
      "Epoch[7/15], Step [340/469], Reconst Loss: 0.0679\n",
      "Epoch[7/15], Step [350/469], Reconst Loss: 0.0658\n",
      "Epoch[7/15], Step [360/469], Reconst Loss: 0.0689\n",
      "Epoch[7/15], Step [370/469], Reconst Loss: 0.0651\n",
      "Epoch[7/15], Step [380/469], Reconst Loss: 0.0662\n",
      "Epoch[7/15], Step [390/469], Reconst Loss: 0.0667\n",
      "Epoch[7/15], Step [400/469], Reconst Loss: 0.0675\n",
      "Epoch[7/15], Step [410/469], Reconst Loss: 0.0681\n",
      "Epoch[7/15], Step [420/469], Reconst Loss: 0.0673\n",
      "Epoch[7/15], Step [430/469], Reconst Loss: 0.0668\n",
      "Epoch[7/15], Step [440/469], Reconst Loss: 0.0695\n",
      "Epoch[7/15], Step [450/469], Reconst Loss: 0.0633\n",
      "Epoch[7/15], Step [460/469], Reconst Loss: 0.0671\n",
      "Epoch[8/15], Step [10/469], Reconst Loss: 0.0664\n",
      "Epoch[8/15], Step [20/469], Reconst Loss: 0.0691\n",
      "Epoch[8/15], Step [30/469], Reconst Loss: 0.0679\n",
      "Epoch[8/15], Step [40/469], Reconst Loss: 0.0657\n",
      "Epoch[8/15], Step [50/469], Reconst Loss: 0.0656\n",
      "Epoch[8/15], Step [60/469], Reconst Loss: 0.0698\n",
      "Epoch[8/15], Step [70/469], Reconst Loss: 0.0703\n",
      "Epoch[8/15], Step [80/469], Reconst Loss: 0.0686\n",
      "Epoch[8/15], Step [90/469], Reconst Loss: 0.0687\n",
      "Epoch[8/15], Step [100/469], Reconst Loss: 0.0682\n",
      "Epoch[8/15], Step [110/469], Reconst Loss: 0.0662\n",
      "Epoch[8/15], Step [120/469], Reconst Loss: 0.0676\n",
      "Epoch[8/15], Step [130/469], Reconst Loss: 0.0673\n",
      "Epoch[8/15], Step [140/469], Reconst Loss: 0.0690\n",
      "Epoch[8/15], Step [150/469], Reconst Loss: 0.0689\n",
      "Epoch[8/15], Step [160/469], Reconst Loss: 0.0669\n",
      "Epoch[8/15], Step [170/469], Reconst Loss: 0.0696\n",
      "Epoch[8/15], Step [180/469], Reconst Loss: 0.0674\n",
      "Epoch[8/15], Step [190/469], Reconst Loss: 0.0659\n",
      "Epoch[8/15], Step [200/469], Reconst Loss: 0.0659\n",
      "Epoch[8/15], Step [210/469], Reconst Loss: 0.0671\n",
      "Epoch[8/15], Step [220/469], Reconst Loss: 0.0660\n",
      "Epoch[8/15], Step [230/469], Reconst Loss: 0.0683\n",
      "Epoch[8/15], Step [240/469], Reconst Loss: 0.0653\n",
      "Epoch[8/15], Step [250/469], Reconst Loss: 0.0679\n",
      "Epoch[8/15], Step [260/469], Reconst Loss: 0.0683\n",
      "Epoch[8/15], Step [270/469], Reconst Loss: 0.0679\n",
      "Epoch[8/15], Step [280/469], Reconst Loss: 0.0682\n",
      "Epoch[8/15], Step [290/469], Reconst Loss: 0.0675\n",
      "Epoch[8/15], Step [300/469], Reconst Loss: 0.0655\n",
      "Epoch[8/15], Step [310/469], Reconst Loss: 0.0679\n",
      "Epoch[8/15], Step [320/469], Reconst Loss: 0.0667\n",
      "Epoch[8/15], Step [330/469], Reconst Loss: 0.0667\n",
      "Epoch[8/15], Step [340/469], Reconst Loss: 0.0680\n",
      "Epoch[8/15], Step [350/469], Reconst Loss: 0.0645\n",
      "Epoch[8/15], Step [360/469], Reconst Loss: 0.0674\n",
      "Epoch[8/15], Step [370/469], Reconst Loss: 0.0666\n",
      "Epoch[8/15], Step [380/469], Reconst Loss: 0.0663\n",
      "Epoch[8/15], Step [390/469], Reconst Loss: 0.0674\n",
      "Epoch[8/15], Step [400/469], Reconst Loss: 0.0674\n",
      "Epoch[8/15], Step [410/469], Reconst Loss: 0.0668\n",
      "Epoch[8/15], Step [420/469], Reconst Loss: 0.0674\n",
      "Epoch[8/15], Step [430/469], Reconst Loss: 0.0673\n",
      "Epoch[8/15], Step [440/469], Reconst Loss: 0.0647\n",
      "Epoch[8/15], Step [450/469], Reconst Loss: 0.0667\n",
      "Epoch[8/15], Step [460/469], Reconst Loss: 0.0674\n",
      "Epoch[9/15], Step [10/469], Reconst Loss: 0.0667\n",
      "Epoch[9/15], Step [20/469], Reconst Loss: 0.0694\n",
      "Epoch[9/15], Step [30/469], Reconst Loss: 0.0665\n",
      "Epoch[9/15], Step [40/469], Reconst Loss: 0.0689\n",
      "Epoch[9/15], Step [50/469], Reconst Loss: 0.0686\n",
      "Epoch[9/15], Step [60/469], Reconst Loss: 0.0689\n",
      "Epoch[9/15], Step [70/469], Reconst Loss: 0.0684\n",
      "Epoch[9/15], Step [80/469], Reconst Loss: 0.0641\n",
      "Epoch[9/15], Step [90/469], Reconst Loss: 0.0685\n",
      "Epoch[9/15], Step [100/469], Reconst Loss: 0.0667\n",
      "Epoch[9/15], Step [110/469], Reconst Loss: 0.0647\n",
      "Epoch[9/15], Step [120/469], Reconst Loss: 0.0706\n",
      "Epoch[9/15], Step [130/469], Reconst Loss: 0.0670\n",
      "Epoch[9/15], Step [140/469], Reconst Loss: 0.0671\n",
      "Epoch[9/15], Step [150/469], Reconst Loss: 0.0669\n",
      "Epoch[9/15], Step [160/469], Reconst Loss: 0.0684\n",
      "Epoch[9/15], Step [170/469], Reconst Loss: 0.0662\n",
      "Epoch[9/15], Step [180/469], Reconst Loss: 0.0648\n",
      "Epoch[9/15], Step [190/469], Reconst Loss: 0.0670\n",
      "Epoch[9/15], Step [200/469], Reconst Loss: 0.0663\n",
      "Epoch[9/15], Step [210/469], Reconst Loss: 0.0672\n",
      "Epoch[9/15], Step [220/469], Reconst Loss: 0.0664\n",
      "Epoch[9/15], Step [230/469], Reconst Loss: 0.0655\n",
      "Epoch[9/15], Step [240/469], Reconst Loss: 0.0665\n",
      "Epoch[9/15], Step [250/469], Reconst Loss: 0.0655\n",
      "Epoch[9/15], Step [260/469], Reconst Loss: 0.0711\n",
      "Epoch[9/15], Step [270/469], Reconst Loss: 0.0670\n",
      "Epoch[9/15], Step [280/469], Reconst Loss: 0.0657\n",
      "Epoch[9/15], Step [290/469], Reconst Loss: 0.0671\n",
      "Epoch[9/15], Step [300/469], Reconst Loss: 0.0654\n",
      "Epoch[9/15], Step [310/469], Reconst Loss: 0.0704\n",
      "Epoch[9/15], Step [320/469], Reconst Loss: 0.0693\n",
      "Epoch[9/15], Step [330/469], Reconst Loss: 0.0671\n",
      "Epoch[9/15], Step [340/469], Reconst Loss: 0.0730\n",
      "Epoch[9/15], Step [350/469], Reconst Loss: 0.0650\n",
      "Epoch[9/15], Step [360/469], Reconst Loss: 0.0667\n",
      "Epoch[9/15], Step [370/469], Reconst Loss: 0.0679\n",
      "Epoch[9/15], Step [380/469], Reconst Loss: 0.0685\n",
      "Epoch[9/15], Step [390/469], Reconst Loss: 0.0673\n",
      "Epoch[9/15], Step [400/469], Reconst Loss: 0.0672\n",
      "Epoch[9/15], Step [410/469], Reconst Loss: 0.0674\n",
      "Epoch[9/15], Step [420/469], Reconst Loss: 0.0655\n",
      "Epoch[9/15], Step [430/469], Reconst Loss: 0.0697\n",
      "Epoch[9/15], Step [440/469], Reconst Loss: 0.0682\n",
      "Epoch[9/15], Step [450/469], Reconst Loss: 0.0679\n",
      "Epoch[9/15], Step [460/469], Reconst Loss: 0.0695\n",
      "Epoch[10/15], Step [10/469], Reconst Loss: 0.0715\n",
      "Epoch[10/15], Step [20/469], Reconst Loss: 0.0697\n",
      "Epoch[10/15], Step [30/469], Reconst Loss: 0.0668\n",
      "Epoch[10/15], Step [40/469], Reconst Loss: 0.0666\n",
      "Epoch[10/15], Step [50/469], Reconst Loss: 0.0683\n",
      "Epoch[10/15], Step [60/469], Reconst Loss: 0.0680\n",
      "Epoch[10/15], Step [70/469], Reconst Loss: 0.0669\n",
      "Epoch[10/15], Step [80/469], Reconst Loss: 0.0673\n",
      "Epoch[10/15], Step [90/469], Reconst Loss: 0.0661\n",
      "Epoch[10/15], Step [100/469], Reconst Loss: 0.0684\n",
      "Epoch[10/15], Step [110/469], Reconst Loss: 0.0661\n",
      "Epoch[10/15], Step [120/469], Reconst Loss: 0.0654\n",
      "Epoch[10/15], Step [130/469], Reconst Loss: 0.0669\n",
      "Epoch[10/15], Step [140/469], Reconst Loss: 0.0686\n",
      "Epoch[10/15], Step [150/469], Reconst Loss: 0.0649\n",
      "Epoch[10/15], Step [160/469], Reconst Loss: 0.0661\n",
      "Epoch[10/15], Step [170/469], Reconst Loss: 0.0668\n",
      "Epoch[10/15], Step [180/469], Reconst Loss: 0.0657\n",
      "Epoch[10/15], Step [190/469], Reconst Loss: 0.0666\n",
      "Epoch[10/15], Step [200/469], Reconst Loss: 0.0690\n",
      "Epoch[10/15], Step [210/469], Reconst Loss: 0.0670\n",
      "Epoch[10/15], Step [220/469], Reconst Loss: 0.0699\n",
      "Epoch[10/15], Step [230/469], Reconst Loss: 0.0701\n",
      "Epoch[10/15], Step [240/469], Reconst Loss: 0.0657\n",
      "Epoch[10/15], Step [250/469], Reconst Loss: 0.0644\n",
      "Epoch[10/15], Step [260/469], Reconst Loss: 0.0670\n",
      "Epoch[10/15], Step [270/469], Reconst Loss: 0.0657\n",
      "Epoch[10/15], Step [280/469], Reconst Loss: 0.0687\n",
      "Epoch[10/15], Step [290/469], Reconst Loss: 0.0672\n",
      "Epoch[10/15], Step [300/469], Reconst Loss: 0.0683\n",
      "Epoch[10/15], Step [310/469], Reconst Loss: 0.0681\n",
      "Epoch[10/15], Step [320/469], Reconst Loss: 0.0659\n",
      "Epoch[10/15], Step [330/469], Reconst Loss: 0.0663\n",
      "Epoch[10/15], Step [340/469], Reconst Loss: 0.0685\n",
      "Epoch[10/15], Step [350/469], Reconst Loss: 0.0653\n",
      "Epoch[10/15], Step [360/469], Reconst Loss: 0.0655\n",
      "Epoch[10/15], Step [370/469], Reconst Loss: 0.0650\n",
      "Epoch[10/15], Step [380/469], Reconst Loss: 0.0665\n",
      "Epoch[10/15], Step [390/469], Reconst Loss: 0.0679\n",
      "Epoch[10/15], Step [400/469], Reconst Loss: 0.0638\n",
      "Epoch[10/15], Step [410/469], Reconst Loss: 0.0672\n",
      "Epoch[10/15], Step [420/469], Reconst Loss: 0.0677\n",
      "Epoch[10/15], Step [430/469], Reconst Loss: 0.0679\n",
      "Epoch[10/15], Step [440/469], Reconst Loss: 0.0671\n",
      "Epoch[10/15], Step [450/469], Reconst Loss: 0.0653\n",
      "Epoch[10/15], Step [460/469], Reconst Loss: 0.0667\n",
      "Epoch[11/15], Step [10/469], Reconst Loss: 0.0692\n",
      "Epoch[11/15], Step [20/469], Reconst Loss: 0.0671\n",
      "Epoch[11/15], Step [30/469], Reconst Loss: 0.0690\n",
      "Epoch[11/15], Step [40/469], Reconst Loss: 0.0650\n",
      "Epoch[11/15], Step [50/469], Reconst Loss: 0.0676\n",
      "Epoch[11/15], Step [60/469], Reconst Loss: 0.0673\n",
      "Epoch[11/15], Step [70/469], Reconst Loss: 0.0689\n",
      "Epoch[11/15], Step [80/469], Reconst Loss: 0.0678\n",
      "Epoch[11/15], Step [90/469], Reconst Loss: 0.0709\n",
      "Epoch[11/15], Step [100/469], Reconst Loss: 0.0689\n",
      "Epoch[11/15], Step [110/469], Reconst Loss: 0.0680\n",
      "Epoch[11/15], Step [120/469], Reconst Loss: 0.0671\n",
      "Epoch[11/15], Step [130/469], Reconst Loss: 0.0702\n",
      "Epoch[11/15], Step [140/469], Reconst Loss: 0.0700\n",
      "Epoch[11/15], Step [150/469], Reconst Loss: 0.0707\n",
      "Epoch[11/15], Step [160/469], Reconst Loss: 0.0678\n",
      "Epoch[11/15], Step [170/469], Reconst Loss: 0.0680\n",
      "Epoch[11/15], Step [180/469], Reconst Loss: 0.0684\n",
      "Epoch[11/15], Step [190/469], Reconst Loss: 0.0679\n",
      "Epoch[11/15], Step [200/469], Reconst Loss: 0.0676\n",
      "Epoch[11/15], Step [210/469], Reconst Loss: 0.0653\n",
      "Epoch[11/15], Step [220/469], Reconst Loss: 0.0688\n",
      "Epoch[11/15], Step [230/469], Reconst Loss: 0.0688\n",
      "Epoch[11/15], Step [240/469], Reconst Loss: 0.0700\n",
      "Epoch[11/15], Step [250/469], Reconst Loss: 0.0683\n",
      "Epoch[11/15], Step [260/469], Reconst Loss: 0.0689\n",
      "Epoch[11/15], Step [270/469], Reconst Loss: 0.0664\n",
      "Epoch[11/15], Step [280/469], Reconst Loss: 0.0676\n",
      "Epoch[11/15], Step [290/469], Reconst Loss: 0.0681\n",
      "Epoch[11/15], Step [300/469], Reconst Loss: 0.0642\n",
      "Epoch[11/15], Step [310/469], Reconst Loss: 0.0661\n",
      "Epoch[11/15], Step [320/469], Reconst Loss: 0.0692\n",
      "Epoch[11/15], Step [330/469], Reconst Loss: 0.0647\n",
      "Epoch[11/15], Step [340/469], Reconst Loss: 0.0671\n",
      "Epoch[11/15], Step [350/469], Reconst Loss: 0.0680\n",
      "Epoch[11/15], Step [360/469], Reconst Loss: 0.0686\n",
      "Epoch[11/15], Step [370/469], Reconst Loss: 0.0669\n",
      "Epoch[11/15], Step [380/469], Reconst Loss: 0.0661\n",
      "Epoch[11/15], Step [390/469], Reconst Loss: 0.0661\n",
      "Epoch[11/15], Step [400/469], Reconst Loss: 0.0689\n",
      "Epoch[11/15], Step [410/469], Reconst Loss: 0.0675\n",
      "Epoch[11/15], Step [420/469], Reconst Loss: 0.0660\n",
      "Epoch[11/15], Step [430/469], Reconst Loss: 0.0680\n",
      "Epoch[11/15], Step [440/469], Reconst Loss: 0.0699\n",
      "Epoch[11/15], Step [450/469], Reconst Loss: 0.0688\n",
      "Epoch[11/15], Step [460/469], Reconst Loss: 0.0676\n",
      "Epoch[12/15], Step [10/469], Reconst Loss: 0.0659\n",
      "Epoch[12/15], Step [20/469], Reconst Loss: 0.0676\n",
      "Epoch[12/15], Step [30/469], Reconst Loss: 0.0711\n",
      "Epoch[12/15], Step [40/469], Reconst Loss: 0.0682\n",
      "Epoch[12/15], Step [50/469], Reconst Loss: 0.0693\n",
      "Epoch[12/15], Step [60/469], Reconst Loss: 0.0642\n",
      "Epoch[12/15], Step [70/469], Reconst Loss: 0.0707\n",
      "Epoch[12/15], Step [80/469], Reconst Loss: 0.0685\n",
      "Epoch[12/15], Step [90/469], Reconst Loss: 0.0677\n",
      "Epoch[12/15], Step [100/469], Reconst Loss: 0.0693\n",
      "Epoch[12/15], Step [110/469], Reconst Loss: 0.0671\n",
      "Epoch[12/15], Step [120/469], Reconst Loss: 0.0695\n",
      "Epoch[12/15], Step [130/469], Reconst Loss: 0.0670\n",
      "Epoch[12/15], Step [140/469], Reconst Loss: 0.0683\n",
      "Epoch[12/15], Step [150/469], Reconst Loss: 0.0666\n",
      "Epoch[12/15], Step [160/469], Reconst Loss: 0.0678\n",
      "Epoch[12/15], Step [170/469], Reconst Loss: 0.0668\n",
      "Epoch[12/15], Step [180/469], Reconst Loss: 0.0681\n",
      "Epoch[12/15], Step [190/469], Reconst Loss: 0.0662\n",
      "Epoch[12/15], Step [200/469], Reconst Loss: 0.0688\n",
      "Epoch[12/15], Step [210/469], Reconst Loss: 0.0663\n",
      "Epoch[12/15], Step [220/469], Reconst Loss: 0.0655\n",
      "Epoch[12/15], Step [230/469], Reconst Loss: 0.0663\n",
      "Epoch[12/15], Step [240/469], Reconst Loss: 0.0689\n",
      "Epoch[12/15], Step [250/469], Reconst Loss: 0.0671\n",
      "Epoch[12/15], Step [260/469], Reconst Loss: 0.0655\n",
      "Epoch[12/15], Step [270/469], Reconst Loss: 0.0686\n",
      "Epoch[12/15], Step [280/469], Reconst Loss: 0.0653\n",
      "Epoch[12/15], Step [290/469], Reconst Loss: 0.0667\n",
      "Epoch[12/15], Step [300/469], Reconst Loss: 0.0677\n",
      "Epoch[12/15], Step [310/469], Reconst Loss: 0.0654\n",
      "Epoch[12/15], Step [320/469], Reconst Loss: 0.0711\n",
      "Epoch[12/15], Step [330/469], Reconst Loss: 0.0678\n",
      "Epoch[12/15], Step [340/469], Reconst Loss: 0.0667\n",
      "Epoch[12/15], Step [350/469], Reconst Loss: 0.0691\n",
      "Epoch[12/15], Step [360/469], Reconst Loss: 0.0661\n",
      "Epoch[12/15], Step [370/469], Reconst Loss: 0.0665\n",
      "Epoch[12/15], Step [380/469], Reconst Loss: 0.0659\n",
      "Epoch[12/15], Step [390/469], Reconst Loss: 0.0668\n",
      "Epoch[12/15], Step [400/469], Reconst Loss: 0.0661\n",
      "Epoch[12/15], Step [410/469], Reconst Loss: 0.0677\n",
      "Epoch[12/15], Step [420/469], Reconst Loss: 0.0677\n",
      "Epoch[12/15], Step [430/469], Reconst Loss: 0.0653\n",
      "Epoch[12/15], Step [440/469], Reconst Loss: 0.0650\n",
      "Epoch[12/15], Step [450/469], Reconst Loss: 0.0682\n",
      "Epoch[12/15], Step [460/469], Reconst Loss: 0.0678\n",
      "Epoch[13/15], Step [10/469], Reconst Loss: 0.0675\n",
      "Epoch[13/15], Step [20/469], Reconst Loss: 0.0654\n",
      "Epoch[13/15], Step [30/469], Reconst Loss: 0.0706\n",
      "Epoch[13/15], Step [40/469], Reconst Loss: 0.0684\n",
      "Epoch[13/15], Step [50/469], Reconst Loss: 0.0690\n",
      "Epoch[13/15], Step [60/469], Reconst Loss: 0.0681\n",
      "Epoch[13/15], Step [70/469], Reconst Loss: 0.0706\n",
      "Epoch[13/15], Step [80/469], Reconst Loss: 0.0666\n",
      "Epoch[13/15], Step [90/469], Reconst Loss: 0.0651\n",
      "Epoch[13/15], Step [100/469], Reconst Loss: 0.0703\n",
      "Epoch[13/15], Step [110/469], Reconst Loss: 0.0639\n",
      "Epoch[13/15], Step [120/469], Reconst Loss: 0.0678\n",
      "Epoch[13/15], Step [130/469], Reconst Loss: 0.0657\n",
      "Epoch[13/15], Step [140/469], Reconst Loss: 0.0656\n",
      "Epoch[13/15], Step [150/469], Reconst Loss: 0.0683\n",
      "Epoch[13/15], Step [160/469], Reconst Loss: 0.0658\n",
      "Epoch[13/15], Step [170/469], Reconst Loss: 0.0661\n",
      "Epoch[13/15], Step [180/469], Reconst Loss: 0.0656\n",
      "Epoch[13/15], Step [190/469], Reconst Loss: 0.0677\n",
      "Epoch[13/15], Step [200/469], Reconst Loss: 0.0670\n",
      "Epoch[13/15], Step [210/469], Reconst Loss: 0.0676\n",
      "Epoch[13/15], Step [220/469], Reconst Loss: 0.0657\n",
      "Epoch[13/15], Step [230/469], Reconst Loss: 0.0692\n",
      "Epoch[13/15], Step [240/469], Reconst Loss: 0.0666\n",
      "Epoch[13/15], Step [250/469], Reconst Loss: 0.0687\n",
      "Epoch[13/15], Step [260/469], Reconst Loss: 0.0662\n",
      "Epoch[13/15], Step [270/469], Reconst Loss: 0.0625\n",
      "Epoch[13/15], Step [280/469], Reconst Loss: 0.0663\n",
      "Epoch[13/15], Step [290/469], Reconst Loss: 0.0637\n",
      "Epoch[13/15], Step [300/469], Reconst Loss: 0.0670\n",
      "Epoch[13/15], Step [310/469], Reconst Loss: 0.0674\n",
      "Epoch[13/15], Step [320/469], Reconst Loss: 0.0693\n",
      "Epoch[13/15], Step [330/469], Reconst Loss: 0.0695\n",
      "Epoch[13/15], Step [340/469], Reconst Loss: 0.0697\n",
      "Epoch[13/15], Step [350/469], Reconst Loss: 0.0687\n",
      "Epoch[13/15], Step [360/469], Reconst Loss: 0.0673\n",
      "Epoch[13/15], Step [370/469], Reconst Loss: 0.0703\n",
      "Epoch[13/15], Step [380/469], Reconst Loss: 0.0708\n",
      "Epoch[13/15], Step [390/469], Reconst Loss: 0.0699\n",
      "Epoch[13/15], Step [400/469], Reconst Loss: 0.0650\n",
      "Epoch[13/15], Step [410/469], Reconst Loss: 0.0671\n",
      "Epoch[13/15], Step [420/469], Reconst Loss: 0.0704\n",
      "Epoch[13/15], Step [430/469], Reconst Loss: 0.0701\n",
      "Epoch[13/15], Step [440/469], Reconst Loss: 0.0669\n",
      "Epoch[13/15], Step [450/469], Reconst Loss: 0.0672\n",
      "Epoch[13/15], Step [460/469], Reconst Loss: 0.0674\n",
      "Epoch[14/15], Step [10/469], Reconst Loss: 0.0672\n",
      "Epoch[14/15], Step [20/469], Reconst Loss: 0.0652\n",
      "Epoch[14/15], Step [30/469], Reconst Loss: 0.0689\n",
      "Epoch[14/15], Step [40/469], Reconst Loss: 0.0668\n",
      "Epoch[14/15], Step [50/469], Reconst Loss: 0.0695\n",
      "Epoch[14/15], Step [60/469], Reconst Loss: 0.0657\n",
      "Epoch[14/15], Step [70/469], Reconst Loss: 0.0691\n",
      "Epoch[14/15], Step [80/469], Reconst Loss: 0.0676\n",
      "Epoch[14/15], Step [90/469], Reconst Loss: 0.0663\n",
      "Epoch[14/15], Step [100/469], Reconst Loss: 0.0660\n",
      "Epoch[14/15], Step [110/469], Reconst Loss: 0.0674\n",
      "Epoch[14/15], Step [120/469], Reconst Loss: 0.0648\n",
      "Epoch[14/15], Step [130/469], Reconst Loss: 0.0681\n",
      "Epoch[14/15], Step [140/469], Reconst Loss: 0.0668\n",
      "Epoch[14/15], Step [150/469], Reconst Loss: 0.0647\n",
      "Epoch[14/15], Step [160/469], Reconst Loss: 0.0647\n",
      "Epoch[14/15], Step [170/469], Reconst Loss: 0.0654\n",
      "Epoch[14/15], Step [180/469], Reconst Loss: 0.0656\n",
      "Epoch[14/15], Step [190/469], Reconst Loss: 0.0668\n",
      "Epoch[14/15], Step [200/469], Reconst Loss: 0.0676\n",
      "Epoch[14/15], Step [210/469], Reconst Loss: 0.0678\n",
      "Epoch[14/15], Step [220/469], Reconst Loss: 0.0674\n",
      "Epoch[14/15], Step [230/469], Reconst Loss: 0.0690\n",
      "Epoch[14/15], Step [240/469], Reconst Loss: 0.0663\n",
      "Epoch[14/15], Step [250/469], Reconst Loss: 0.0689\n",
      "Epoch[14/15], Step [260/469], Reconst Loss: 0.0669\n",
      "Epoch[14/15], Step [270/469], Reconst Loss: 0.0683\n",
      "Epoch[14/15], Step [280/469], Reconst Loss: 0.0675\n",
      "Epoch[14/15], Step [290/469], Reconst Loss: 0.0667\n",
      "Epoch[14/15], Step [300/469], Reconst Loss: 0.0683\n",
      "Epoch[14/15], Step [310/469], Reconst Loss: 0.0691\n",
      "Epoch[14/15], Step [320/469], Reconst Loss: 0.0650\n",
      "Epoch[14/15], Step [330/469], Reconst Loss: 0.0681\n",
      "Epoch[14/15], Step [340/469], Reconst Loss: 0.0642\n",
      "Epoch[14/15], Step [350/469], Reconst Loss: 0.0700\n",
      "Epoch[14/15], Step [360/469], Reconst Loss: 0.0649\n",
      "Epoch[14/15], Step [370/469], Reconst Loss: 0.0659\n",
      "Epoch[14/15], Step [380/469], Reconst Loss: 0.0669\n",
      "Epoch[14/15], Step [390/469], Reconst Loss: 0.0702\n",
      "Epoch[14/15], Step [400/469], Reconst Loss: 0.0682\n",
      "Epoch[14/15], Step [410/469], Reconst Loss: 0.0653\n",
      "Epoch[14/15], Step [420/469], Reconst Loss: 0.0664\n",
      "Epoch[14/15], Step [430/469], Reconst Loss: 0.0679\n",
      "Epoch[14/15], Step [440/469], Reconst Loss: 0.0673\n",
      "Epoch[14/15], Step [450/469], Reconst Loss: 0.0658\n",
      "Epoch[14/15], Step [460/469], Reconst Loss: 0.0686\n",
      "Epoch[15/15], Step [10/469], Reconst Loss: 0.0666\n",
      "Epoch[15/15], Step [20/469], Reconst Loss: 0.0677\n",
      "Epoch[15/15], Step [30/469], Reconst Loss: 0.0671\n",
      "Epoch[15/15], Step [40/469], Reconst Loss: 0.0661\n",
      "Epoch[15/15], Step [50/469], Reconst Loss: 0.0696\n",
      "Epoch[15/15], Step [60/469], Reconst Loss: 0.0661\n",
      "Epoch[15/15], Step [70/469], Reconst Loss: 0.0676\n",
      "Epoch[15/15], Step [80/469], Reconst Loss: 0.0679\n",
      "Epoch[15/15], Step [90/469], Reconst Loss: 0.0699\n",
      "Epoch[15/15], Step [100/469], Reconst Loss: 0.0681\n",
      "Epoch[15/15], Step [110/469], Reconst Loss: 0.0647\n",
      "Epoch[15/15], Step [120/469], Reconst Loss: 0.0693\n",
      "Epoch[15/15], Step [130/469], Reconst Loss: 0.0685\n",
      "Epoch[15/15], Step [140/469], Reconst Loss: 0.0690\n",
      "Epoch[15/15], Step [150/469], Reconst Loss: 0.0675\n",
      "Epoch[15/15], Step [160/469], Reconst Loss: 0.0666\n",
      "Epoch[15/15], Step [170/469], Reconst Loss: 0.0668\n",
      "Epoch[15/15], Step [180/469], Reconst Loss: 0.0637\n",
      "Epoch[15/15], Step [190/469], Reconst Loss: 0.0680\n",
      "Epoch[15/15], Step [200/469], Reconst Loss: 0.0678\n",
      "Epoch[15/15], Step [210/469], Reconst Loss: 0.0667\n",
      "Epoch[15/15], Step [220/469], Reconst Loss: 0.0686\n",
      "Epoch[15/15], Step [230/469], Reconst Loss: 0.0672\n",
      "Epoch[15/15], Step [240/469], Reconst Loss: 0.0664\n",
      "Epoch[15/15], Step [250/469], Reconst Loss: 0.0679\n",
      "Epoch[15/15], Step [260/469], Reconst Loss: 0.0639\n",
      "Epoch[15/15], Step [270/469], Reconst Loss: 0.0652\n",
      "Epoch[15/15], Step [280/469], Reconst Loss: 0.0692\n",
      "Epoch[15/15], Step [290/469], Reconst Loss: 0.0682\n",
      "Epoch[15/15], Step [300/469], Reconst Loss: 0.0655\n",
      "Epoch[15/15], Step [310/469], Reconst Loss: 0.0672\n",
      "Epoch[15/15], Step [320/469], Reconst Loss: 0.0674\n",
      "Epoch[15/15], Step [330/469], Reconst Loss: 0.0711\n",
      "Epoch[15/15], Step [340/469], Reconst Loss: 0.0680\n",
      "Epoch[15/15], Step [350/469], Reconst Loss: 0.0654\n",
      "Epoch[15/15], Step [360/469], Reconst Loss: 0.0677\n",
      "Epoch[15/15], Step [370/469], Reconst Loss: 0.0674\n",
      "Epoch[15/15], Step [380/469], Reconst Loss: 0.0673\n",
      "Epoch[15/15], Step [390/469], Reconst Loss: 0.0654\n",
      "Epoch[15/15], Step [400/469], Reconst Loss: 0.0647\n",
      "Epoch[15/15], Step [410/469], Reconst Loss: 0.0662\n",
      "Epoch[15/15], Step [420/469], Reconst Loss: 0.0636\n",
      "Epoch[15/15], Step [430/469], Reconst Loss: 0.0665\n",
      "Epoch[15/15], Step [440/469], Reconst Loss: 0.0667\n",
      "Epoch[15/15], Step [450/469], Reconst Loss: 0.0688\n",
      "Epoch[15/15], Step [460/469], Reconst Loss: 0.0685\n"
     ]
    }
   ],
   "source": [
    "# Start training\n",
    "mse_loss = nn.MSELoss()\n",
    "for epoch in range(num_epochs):\n",
    "    for i, (x, _) in enumerate(data_loader):\n",
    "        # Forward pass\n",
    "        x = x.to(device).view(-1, image_size)\n",
    "        x_reconst, mu, log_var = model(x)\n",
    "\n",
    "        # Compute reconstruction loss and kl divergence\n",
    "        reconst_loss = mse_loss(x_reconst, x)\n",
    "        kl_div = - 0.5 * torch.sum(1 + log_var - mu.pow(2) - log_var.exp())\n",
    "\n",
    "        # Backprop and optimize\n",
    "        loss = reconst_loss + kl_div\n",
    "        optimizer.zero_grad()\n",
    "        loss.backward()\n",
    "        optimizer.step()\n",
    "\n",
    "        if (i+1) % 10 == 0:\n",
    "            print (\"Epoch[{}/{}], Step [{}/{}], Reconst Loss: {:.4f}\"\n",
    "                   .format(epoch+1, num_epochs, i+1, len(data_loader), reconst_loss.item()))\n",
    "\n",
    "    with torch.no_grad():\n",
    "        # Save the sampled images\n",
    "        z = torch.randn(batch_size, z_dim).to(device)\n",
    "        out = model.decode(z).view(-1, 1, 28, 28)\n",
    "        save_image(out,'./sampled-{}.png'.format(epoch+1))\n",
    "\n",
    "        # Save the reconstructed images\n",
    "        out, _, _ = model(x)\n",
    "        x_concat = torch.cat([x.view(-1, 1, 28, 28), out.view(-1, 1, 28, 28)], dim=3)\n",
    "        save_image(x_concat, './reconst-{}.png'.format(epoch+1))"
   ]
  },
  {
   "cell_type": "markdown",
   "id": "c1b190215fb51bfb",
   "metadata": {
    "collapsed": false,
    "id": "c1b190215fb51bfb",
    "pycharm": {
     "name": "#%% md\n"
    }
   },
   "source": [
    "**Task :** Add tensorboard to log the encoder loss and weights"
   ]
  },
  {
   "cell_type": "code",
   "execution_count": null,
   "id": "faa4c179bc4e3bac",
   "metadata": {
    "ExecuteTime": {
     "end_time": "2023-09-14T14:13:11.527517812Z",
     "start_time": "2023-09-14T14:13:11.526834486Z"
    },
    "id": "faa4c179bc4e3bac",
    "pycharm": {
     "name": "#%%\n"
    }
   },
   "outputs": [],
   "source": [
    "# TODO: Add tensorboard to log the encoder loss and weights\n",
    "from torch.utils.tensorboard import SummaryWriter\n",
    "\n",
    "writer = SummaryWriter('./logs')\n",
    "\n",
    "for epoch in range(num_epochs):\n",
    "    # Log loss after each epoch\n",
    "    writer.add_scalar('Loss/train', loss.item(), epoch)\n",
    "\n",
    "    # Add reconstructed images\n",
    "    grid = torchvision.utils.make_grid(reconstructed_images)\n",
    "    writer.add_image('Reconstructed Images', grid, epoch)\n",
    "\n",
    "writer.close()\n"
   ]
  },
  {
   "cell_type": "markdown",
   "id": "12542de3ad505149",
   "metadata": {
    "collapsed": false,
    "id": "12542de3ad505149",
    "pycharm": {
     "name": "#%% md\n"
    }
   },
   "source": [
    "## Resources\n",
    "\n",
    "* [Auto-Encoding Variational Bayes](https://arxiv.org/pdf/1312.6114.pdf)\n",
    "* [Variational inference: A review for statisticians](https://arxiv.org/pdf/1601.00670.pdf)\n",
    "* [Tutorial on variational autoencoders](https://arxiv.org/pdf/1606.05908.pdf)\n",
    "* [Stochastic Backpropagation and Approximate Inference in Deep Generative Models](https://arxiv.org/pdf/1401.4082.pdf)"
   ]
  }
 ],
 "metadata": {
  "colab": {
   "provenance": []
  },
  "kernelspec": {
   "display_name": "Python 3",
   "language": "python",
   "name": "python3"
  },
  "language_info": {
   "codemirror_mode": {
    "name": "ipython",
    "version": 3
   },
   "file_extension": ".py",
   "mimetype": "text/x-python",
   "name": "python",
   "nbconvert_exporter": "python",
   "pygments_lexer": "ipython3",
   "version": "3.13.0"
  }
 },
 "nbformat": 4,
 "nbformat_minor": 5
}